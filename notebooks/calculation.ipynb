{
 "cells": [
  {
   "cell_type": "code",
   "execution_count": 11,
   "metadata": {},
   "outputs": [],
   "source": [
    "import ee\n",
    "import io\n",
    "import requests\n",
    "import numpy as np\n",
    "from datetime import date, timedelta\n",
    "import matplotlib.pyplot as plt"
   ]
  },
  {
   "cell_type": "code",
   "execution_count": 12,
   "metadata": {},
   "outputs": [],
   "source": [
    "ee.Initialize()"
   ]
  },
  {
   "cell_type": "code",
   "execution_count": 13,
   "metadata": {},
   "outputs": [],
   "source": [
    "MAX_RES_SCALE = 10 # 1 pixel = 10x10m\n",
    "\n",
    "def fetch_DWData(region_shape: ee.Geometry.Polygon, start_t:str, end_t:str):\n",
    "    search_filter = ee.Filter([ee.Filter.bounds(region_shape), ee.Filter.date('2021-04-02', '2021-04-03')]);\n",
    "    dwCol = ee.ImageCollection('GOOGLE/DYNAMICWORLD/V1').filter(search_filter)\n",
    "\n",
    "    latest_partition = dwCol.first().toInt8()\n",
    "\n",
    "    data_url = latest_partition.getDownloadURL({\n",
    "        'bands': ['label'],\n",
    "        'region': region_shape,\n",
    "        'scale': MAX_RES_SCALE,\n",
    "        'format': 'NPY'\n",
    "    })\n",
    "\n",
    "    response = requests.get(data_url)\n",
    "\n",
    "    if response.status_code == 200:\n",
    "        raw_data = np.load(io.BytesIO(response.content))\n",
    "        return raw_data\n",
    "    \n",
    "    return None\n"
   ]
  },
  {
   "cell_type": "code",
   "execution_count": 14,
   "metadata": {},
   "outputs": [],
   "source": [
    "def clean_data(raw:np.array):\n",
    "    new_data = []\n",
    "    for row in raw:\n",
    "        new_row = []\n",
    "        for item in row:\n",
    "            new_row.append(item[0])\n",
    "        new_data.append(new_row)\n",
    "\n",
    "    return np.array(new_data)"
   ]
  },
  {
   "cell_type": "code",
   "execution_count": 15,
   "metadata": {},
   "outputs": [],
   "source": [
    "VALUE2BAND  = { 0 : 'water',\n",
    "                1 : 'trees',\n",
    "                2 : 'grass',\n",
    "                3 : 'flooded_vegetation',\n",
    "                4 : 'crops',\n",
    "                5 : 'shrub_and_scrub',\n",
    "                6 : 'built',\n",
    "                7 : 'bare',\n",
    "                8 : 'snow_and_ice' }\n",
    "\n",
    "BAND2VALUE  = { 'water' : 0,\n",
    "                'trees' : 1,\n",
    "                'grass' : 2,\n",
    "                'flooded_vegetation' : 3,\n",
    "                'crops' : 4,\n",
    "                'shrub_and_scrub' : 5,\n",
    "                'built' : 6,\n",
    "                'bare' : 7,\n",
    "                'snow_and_ice' : 8 }\n",
    "\n",
    "                \n",
    "ELEGIBLE_BANDS = ['grass', 'crops', 'shrub_and_scrub', 'bare']\n",
    "\n",
    "HECT_CONVERTION_FACTOR = .001\n",
    "\n",
    "def isolate_band(sat_data : np.array, band : str): \n",
    "    data_filter = sat_data == BAND2VALUE[band]\n",
    "    return sat_data[data_filter] / BAND2VALUE[band]\n",
    "\n",
    "def band_area(sat_data : np.array, band : str):\n",
    "    band_pixels = isolate_band(sat_data, band)\n",
    "    band_pixels = band_pixels.flatten()\n",
    "\n",
    "    return np.add.reduce(band_pixels)"
   ]
  },
  {
   "cell_type": "code",
   "execution_count": 16,
   "metadata": {},
   "outputs": [],
   "source": [
    "def calc_approx(region_shape: ee.Geometry.Polygon):\n",
    "    today = date.today()\n",
    "    tolerance_past = today - timedelta(days=30)\n",
    "\n",
    "    start_t_str = tolerance_past.strftime(\"%Y-%m-%d\")\n",
    "    end_t_str = tolerance_past.strftime(\"%Y-%m-%d\")\n",
    "\n",
    "    raw_array = fetch_DWData(region_shape, start_t_str, end_t_str)\n",
    "    if raw_array is None: return None\n",
    "\n",
    "    dwData = clean_data(raw_array)\n",
    "    elegible_area = 0\n",
    "\n",
    "    for band in ELEGIBLE_BANDS:\n",
    "        halve = 0.5 if band == 'crops' else 1\n",
    "        elegible_area += band_area(dwData, band)\n",
    "\n",
    "    elegible_area *= HECT_CONVERTION_FACTOR\n",
    "\n",
    "    carbon_calc = 13.815 * elegible_area\n",
    "    car_calc = carbon_calc / 0.43\n",
    "\n",
    "    return {'elegible_area' : elegible_area,\n",
    "            'carbon_calc'   : carbon_calc,\n",
    "            'car_calc'      : car_calc} "
   ]
  },
  {
   "cell_type": "code",
   "execution_count": 17,
   "metadata": {},
   "outputs": [],
   "source": [
    "test_polygon = ee.Geometry.Polygon(\n",
    "    [\n",
    "        [\n",
    "            [-103.1913812014911,20.33034573665963],\n",
    "            [-103.1922818923659,20.32761306717687],\n",
    "            [-103.1880223393225,20.32661425447412],\n",
    "            [-103.1883963909232,20.33111088627422],\n",
    "            [-103.1913812014911,20.33034573665963]\n",
    "        ]\n",
    "    ],\n",
    "    None,\n",
    "    False\n",
    ")\n",
    "\n",
    "results = calc_approx(test_polygon)"
   ]
  },
  {
   "cell_type": "code",
   "execution_count": 27,
   "metadata": {},
   "outputs": [],
   "source": [
    "response = requests.get('https://v6.exchangerate-api.com/v6/5e3481394f866fbf4bf07bac/latest/USD')\n",
    "now_mxn_rate = (response.json())['conversion_rates']['MXN']\n",
    "\n",
    "carbon_profit = results['carbon_calc']*now_mxn_rate*carbon_rate"
   ]
  },
  {
   "cell_type": "code",
   "execution_count": 28,
   "metadata": {},
   "outputs": [
    {
     "data": {
      "text/plain": [
       "4136.448272625"
      ]
     },
     "execution_count": 28,
     "metadata": {},
     "output_type": "execute_result"
    }
   ],
   "source": [
    "carbon_profit"
   ]
  },
  {
   "cell_type": "code",
   "execution_count": 25,
   "metadata": {},
   "outputs": [
    {
     "data": {
      "text/plain": [
       "{'elegible_area': 1.492,\n",
       " 'carbon_calc': 20.61198,\n",
       " 'car_calc': 47.93483720930232}"
      ]
     },
     "execution_count": 25,
     "metadata": {},
     "output_type": "execute_result"
    }
   ],
   "source": [
    "results"
   ]
  },
  {
   "cell_type": "code",
   "execution_count": null,
   "metadata": {},
   "outputs": [],
   "source": []
  }
 ],
 "metadata": {
  "kernelspec": {
   "display_name": "Python 3.10.5 ('venv': venv)",
   "language": "python",
   "name": "python3"
  },
  "language_info": {
   "codemirror_mode": {
    "name": "ipython",
    "version": 3
   },
   "file_extension": ".py",
   "mimetype": "text/x-python",
   "name": "python",
   "nbconvert_exporter": "python",
   "pygments_lexer": "ipython3",
   "version": "3.10.5"
  },
  "orig_nbformat": 4,
  "vscode": {
   "interpreter": {
    "hash": "eab8d78d8a7a28701be2143c89b64539b5098ea8f4c801b2dcf91ba57559bb8c"
   }
  }
 },
 "nbformat": 4,
 "nbformat_minor": 2
}
